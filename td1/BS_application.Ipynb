{
 "cells": [
  {
   "cell_type": "code",
   "execution_count": 1,
   "metadata": {},
   "outputs": [
    {
     "name": "stdout",
     "output_type": "stream",
     "text": [
      "0\n"
     ]
    }
   ],
   "source": [
    "from sympy import symbols, diff, exp, sqrt, log, pi, erf\n",
    "from sympy.stats import Normal, cdf\n",
    "from sympy.simplify import simplify\n",
    "\n",
    "# Définition des symboles\n",
    "S, K, r, sigma, T, t = symbols('S K r sigma T t', real=True, positive=True)\n",
    "\n",
    "# Calcul de d1 et d2 pour l'option call\n",
    "d1 = (log(S/K) + (r + sigma**2 / 2) * (T - t)) / (sigma * sqrt(T - t))\n",
    "d2 = d1 - sigma * sqrt(T - t)\n",
    "\n",
    "# Distribution normale standard\n",
    "N = Normal('N', 0, 1)\n",
    "\n",
    "# Fonction de Black-Scholes pour une option call\n",
    "C_t = cdf(N)(d1) * S - K * cdf(N)(d2) * exp(-r * (T - t))\n",
    "\n",
    "# Dérivée de C_t par rapport au temps t\n",
    "dC_dt = diff(C_t, t)\n",
    "\n",
    "# Dérivée seconde de C_t par rapport à S\n",
    "d2C_dS2 = diff(C_t, S, 2)\n",
    "\n",
    "# Dérivée de C_t par rapport à S\n",
    "dC_dS = diff(C_t, S)\n",
    "\n",
    "# Vérification de l'EDP de Black-Scholes\n",
    "# EDP: ∂C/∂t + rS∂C/∂S + 1/2 σ^2 S^2 ∂^2C/∂S^2 - rC = 0\n",
    "BS_equation = dC_dt + r * S * dC_dS + (1/2) * sigma**2 * S**2 * d2C_dS2 - r * C_t\n",
    "\n",
    "# Simplifier l'expression pour vérifier si elle est égale à 0\n",
    "BS_equation_simplified = simplify(BS_equation)\n",
    "\n",
    "# Afficher le résultat simplifié\n",
    "print(BS_equation_simplified)\n"
   ]
  }
 ],
 "metadata": {
  "kernelspec": {
   "display_name": "Python 3",
   "language": "python",
   "name": "python3"
  },
  "language_info": {
   "codemirror_mode": {
    "name": "ipython",
    "version": 3
   },
   "file_extension": ".py",
   "mimetype": "text/x-python",
   "name": "python",
   "nbconvert_exporter": "python",
   "pygments_lexer": "ipython3",
   "version": "3.11.3"
  }
 },
 "nbformat": 4,
 "nbformat_minor": 2
}
